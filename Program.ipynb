{
 "cells": [
  {
   "cell_type": "code",
   "execution_count": 7,
   "id": "bb0b5bad-9fff-46c6-84a4-4f1dbadeeff8",
   "metadata": {},
   "outputs": [
    {
     "name": "stdin",
     "output_type": "stream",
     "text": [
      "Please enter your name. Elisa\n",
      "Please enter your age as a number. 20\n"
     ]
    },
    {
     "name": "stdout",
     "output_type": "stream",
     "text": [
      "My name is  Elisa  and I am  20  years old!\n"
     ]
    }
   ],
   "source": [
    "userinput = input(\"Please enter your name.\")\n",
    "ageinput = int(input(\"Please enter your age as a number.\"))\n",
    "print(\"My name is \", userinput, \" and I am \", ageinput, \" years old!\")"
   ]
  },
  {
   "cell_type": "code",
   "execution_count": null,
   "id": "c1c3a3b7-ca87-4187-8d2c-0f6040bfd8df",
   "metadata": {},
   "outputs": [],
   "source": []
  }
 ],
 "metadata": {
  "kernelspec": {
   "display_name": "Python 3 (ipykernel)",
   "language": "python",
   "name": "python3"
  },
  "language_info": {
   "codemirror_mode": {
    "name": "ipython",
    "version": 3
   },
   "file_extension": ".py",
   "mimetype": "text/x-python",
   "name": "python",
   "nbconvert_exporter": "python",
   "pygments_lexer": "ipython3",
   "version": "3.12.4"
  }
 },
 "nbformat": 4,
 "nbformat_minor": 5
}
